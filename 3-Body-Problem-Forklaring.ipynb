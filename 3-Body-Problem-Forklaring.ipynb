{
 "cells": [
  {
   "cell_type": "markdown",
   "id": "d8218658",
   "metadata": {},
   "source": [
    "Skien Videregående Skole, **Marcus Allen Denslow** $$ \\\\ $$"
   ]
  },
  {
   "cell_type": "markdown",
   "id": "e9c7a2d2",
   "metadata": {},
   "source": [
    "# <center><b>**Numerisk løsning av Trelegemeproblemet**</b></center>\n",
    "## <center><b>**med dimensjonsløs python implementering**</b></center>$$ \\\\ $$ $$ \\\\ $$\n"
   ]
  },
  {
   "cell_type": "markdown",
   "id": "ccd4d144-93f2-42a3-a337-e10146751213",
   "metadata": {},
   "source": [
    "# **Trelegemeproblemet**\n",
    "----------------------------------------------------"
   ]
  },
  {
   "cell_type": "markdown",
   "id": "385b6705-b59e-4ea1-99e2-caf98823369d",
   "metadata": {},
   "source": [
    "### **1. Introduksjon**\n",
    "3-kroppsproblemet er et klassisk problem i himmelmekanikk som beskriver bevegelsen til tre massive legemer som samhandler med hverandre under påvirkning av tyngdekraften. Dette problemet har betydelige anvendelser for å forstå banene til planeter, måner og kunstige satellitter.\n",
    "\n",
    "Målet er å forutsi de fremtidige **posisjonene og hastighetene** til de tre legemene gitt deres utgangstilstander."
   ]
  },
  {
   "cell_type": "markdown",
   "id": "1f888fbc-89ba-4531-b6d2-ef28585dd779",
   "metadata": {},
   "source": [
    "### **2. Forutsetninger og forenklinger**\n",
    "* **Isolert system**: Systemet består kun av de to samvirkende legemer, uten ytre krefter som virker på dem.\n",
    "* **Punktmasser**: Kroppene behandles som punktmasser, med all masse konsentrert på ett enkelt punkt.\n",
    "* **Newtonsk gravitasjon**: Kraften mellom de to kroppene er beskrevet av Newtons lov om universell gravitasjon."
   ]
  },
  {
   "cell_type": "markdown",
   "id": "c66a62f4-5634-4f3c-a14a-7b633f06892c",
   "metadata": {},
   "source": [
    "### **3. Matematisk formulering**\n",
    "\n",
    "En planet er representert som en partikkel som har en posisjon $\\vec{p}.\\\\$ $\\\\ F_{p_i \\ / \\ p_j}$ er gravitasjonskraften som $p_i$ utøver på $p_j$\n",
    "\n",
    "$$ \\vec{F}_{p_i \\ / \\ p_j} = G \\frac{m_i \\ m_j}{|\\vec{p}_i - \\vec{p}_j|^3} \\left(\\vec{p}_i - \\vec{p}_j \\right) $$\n",
    "\n",
    "Her er $\\vec{p} = [p_x, p_y, p_z]$ som inneholder koordinatene til planeten.\n",
    "\n",
    "Ved å bruke Newtons andre bevegelseslov på hver planet:\n",
    "\n",
    "* På planet 1 ($\\vec{p}_1$):\n",
    "$$ m_1 \\frac{d^2 \\vec{p}_1}{dt^2} = G \\left(\\frac{m_3 \\ m_1}{|\\vec{p}_3 - \\vec{p}_1|^3} \\left(\\vec{p}_3 - \\vec{p}_1 \\right)  +   \\frac{m_2 \\ m_1}{|\\vec{p}_2 - \\vec{p}_1|^3} \\left(\\vec{p}_2 - \\vec{p}_1 \\right) \\right)$$\n",
    "\n",
    "vi kan simplifisere $m_1$, og faktorisere ut G. Som resulterer i:\n",
    "\n",
    "$$\\boxed{ \\frac{d^2 \\vec{p}_1}{dt^2} = G m_3 \\frac{\\vec{p}_3 - \\vec{p}_1}{|\\vec{p}_3 - \\vec{p}_1|^3} +  G m_2 \\frac{\\vec{p}_2 - \\vec{p}_1}{|\\vec{p}_2 - \\vec{p}_1|^3} } $$\n",
    "\n",
    "Arbeidet gjentas for de resterende planetene ($\\vec{p}_2$ og $\\vec{p}_3$), og til slutt oppnås systemet av ordinære differensialligninger (ODE-er):\n",
    "\n",
    "$$\n",
    "\\boxed{\n",
    "\\begin{array}{c}\n",
    "\\displaystyle \\frac{d^2 \\vec{p}_1}{dt^2} = G m_3 \\frac{\\vec{p}_3 - \\vec{p}_1}{|\\vec{p}_3 - \\vec{p}_1|^3} +  G m_2 \\frac{\\vec{p}_2 - \\vec{p}_1}{|\\vec{p}_2 - \\vec{p}_1|^3} \\\\[0.2cm]\n",
    "\\displaystyle \\frac{d^2 \\vec{p}_2}{dt^2} = G m_3 \\frac{\\vec{p}_3 - \\vec{p}_2}{|\\vec{p}_3 - \\vec{p}_2|^3} +  G m_1 \\frac{\\vec{p}_1 - \\vec{p}_2}{|\\vec{p}_1 - \\vec{p}_2|^3}\\\\[0.2cm]\n",
    "\\displaystyle \\frac{d^2 \\vec{p}_3}{dt^2} = G m_1 \\frac{\\vec{p}_1 - \\vec{p}_3}{|\\vec{p}_1 - \\vec{p}_3|^3} +  G m_2 \\frac{\\vec{p}_2 - \\vec{p}_3}{|\\vec{p}_2 - \\vec{p}_3|^3}\n",
    "\\end{array}\n",
    "} \n",
    "$$\n"
   ]
  },
  {
   "cell_type": "markdown",
   "id": "b715c184-78d7-406d-b07d-6f1013b4d51e",
   "metadata": {},
   "source": [
    "### **4. Pakking av problemet for Python**\n",
    "#### **Dimensjonsløs versjon**\n",
    "Vi kan ha behov for å skalere om problemet vårt for å forenkle og muliggjøre større stabilitet. Dette gjøres ved å definere nye variabler:\n",
    "\n",
    "- $\\vec{p'} = \\vec{p}/L$\n",
    "- $m' = m/M$\n",
    "- $t' = t \\sqrt{GM/L^3}$\n",
    "\n",
    "Hvor $\\vec{p'}$, $m'$ og $t'$ er dimensjonsløse variabler, og $L$ og $M$ er referanseverdier.\n",
    "\n"
   ]
  },
  {
   "cell_type": "markdown",
   "id": "8676e684-83b8-475f-a331-904eb5ae8632",
   "metadata": {},
   "source": [
    "**Ved å erstatte de omskalerte variablene oppnår vi følgende ligning:**\n",
    "\n",
    "$$\n",
    "\\displaystyle \\frac{d^2 (L \\vec{p'}_1)}{d(\\frac{t'}{\\sqrt{GM/L^3}})^2} = G m_3 \\frac{L(\\vec{p'}_3 - \\vec{p'}_1)}{|L(\\vec{p'}_3 - \\vec{p'}_1)|^3} +  G m_2 \\frac{L(\\vec{p'}_2 - \\vec{p'}_1)}{|L(\\vec{p'}_2 - \\vec{p'}_1)|^3}\n",
    "$$\n",
    "\n",
    "Som fører til:\n",
    "\n",
    "$$\\displaystyle \\frac{L \\ GM}{L^3}\\frac{d^2 \\vec{p'}_1}{dt'^2} = G m_3 \\frac{L}{L^3} \\frac{\\vec{p'}_3 - \\vec{p'}_1}{|\\vec{p'}_3 - \\vec{p'}_1|^3} +  G m_2 \\frac{L}{L^3} \\frac{\\vec{p'}_2 - \\vec{p'}_1}{|\\vec{p'}_2 - \\vec{p'}_1|^3}$$\n",
    "\n",
    "Etter forenkling:\n",
    "\n",
    "$$\n",
    "\\boxed{\n",
    "\\displaystyle \\frac{d^2 \\vec{p'}_1}{dt'^2} = \\frac{m_3}{M} \\frac{\\vec{p'}_3 - \\vec{p'}_1}{|\\vec{p'}_3 - \\vec{p'}_1|^3} + \\frac{m_2}{M}  \\frac{\\vec{p'}_2 - \\vec{p'}_1}{|\\vec{p'}_2 - \\vec{p'}_1|^3}\n",
    "}\n",
    "$$\n",
    "\n",
    "Til slutt oppnår vi det omskalerte systemet av ODE:\n",
    "\n",
    "$$\n",
    "\\boxed{\n",
    "\\begin{array}{c}\n",
    "\\displaystyle \\frac{d^2 \\vec{p'}_1}{dt'^2} = m_3' \\frac{\\vec{p'}_3 - \\vec{p'}_1}{|\\vec{p'}_3 - \\vec{p'}_1|^3} + m_2'  \\frac{\\vec{p'}_2 - \\vec{p'}_1}{|\\vec{p'}_2 - \\vec{p'}_1|^3} \\\\[0.2cm]\n",
    "\\displaystyle \\frac{d^2 \\vec{p'}_2}{dt'^2} = m_3' \\frac{\\vec{p'}_3 - \\vec{p'}_2}{|\\vec{p'}_3 - \\vec{p'}_2|^3} + m_1'  \\frac{\\vec{p'}_1 - \\vec{p'}_2}{|\\vec{p'}_1 - \\vec{p'}_2|^3}\\\\[0.2cm]\n",
    "\\displaystyle \\frac{d^2 \\vec{p'}_3}{dt'^2} = m_1' \\frac{\\vec{p'}_1 - \\vec{p'}_3}{|\\vec{p'}_1 - \\vec{p'}_3|^3} + m_2'  \\frac{\\vec{p'}_2 - \\vec{p'}_3}{|\\vec{p'}_2 - \\vec{p'}_3|^3}\n",
    "\\end{array}\n",
    "} \n",
    "$$\n"
   ]
  },
  {
   "cell_type": "markdown",
   "id": "7387851d-153f-4975-a089-49969a6a15de",
   "metadata": {},
   "source": [
    "#### **Transformering til et system av første ordens differensialligninger**\n",
    "\n",
    "Ved å definere nye funksjoner $\\vec{f}_1$, $\\vec{f}_2$ og $\\vec{f}_3$ som:\n",
    "\n",
    "$$ \\vec{f}_1 = \\frac{d \\vec{p'}_1}{dt} $$\n",
    "$$ \\vec{f}_2 = \\frac{d \\vec{p'}_2}{dt} $$\n",
    "$$ \\vec{f}_3 = \\frac{d \\vec{p'}_3}{dt} $$\n",
    "\n",
    "Oppnås systemet av første ordens differensialligninger:\n",
    "$$\n",
    "\\boxed{\n",
    "\\begin{array}{l}\n",
    "\\vec{f}_1 & = & \\displaystyle \\frac{d \\vec{p'}_1}{dt}\\\\\n",
    "\\vec{f}_2 & = & \\displaystyle \\frac{d \\vec{p'}_2}{dt}\\\\\n",
    "\\vec{f}_3 & = & \\displaystyle \\frac{d \\vec{p'}_3}{dt}\\\\\n",
    "\\\\\n",
    "\\displaystyle \\frac{d \\vec{f}_1}{dt} & = & \\displaystyle m_3' \\frac{\\vec{p'}_3 - \\vec{p'}_1}{|\\vec{p'}_3 - \\vec{p'}_1|^3} +  m_2' \\frac{\\vec{p'}_2 - \\vec{p'}_1}{|\\vec{p'}_2 - \\vec{p'}_1|^3} \\\\[0.2cm]\n",
    "\\displaystyle \\frac{d \\vec{f}_2}{dt} & = & \\displaystyle m_3' \\frac{\\vec{p'}_3 - \\vec{p'}_2}{|\\vec{p'}_3 - \\vec{p'}_2|^3} +  m_1' \\frac{\\vec{p'}_1 - \\vec{p'}_2}{|\\vec{p'}_1 - \\vec{p'}_2|^3}\\\\[0.2cm]\n",
    "\\displaystyle \\frac{d \\vec{f}_3}{dt} & = & \\displaystyle m_1' \\frac{\\vec{p'}_1 - \\vec{p'}_3}{|\\vec{p'}_1 - \\vec{p'}_3|^3} +  m_2' \\frac{\\vec{p'}_2 - \\vec{p'}_3}{|\\vec{p'}_2 - \\vec{p'}_3|^3}\n",
    "\\end{array}\n",
    "}\\\\\n",
    "$$\n",
    "\n",
    "Vi ønsker å løse for $\\vec{p'}_1$, $\\vec{p'}_2$ og $\\vec{p'}_3$. Når $t' = 0$, har vi informasjon om planetenes initialposisjoner og hastigheter (Initialbetingelser | IVP):\n",
    "\n",
    "* $\\displaystyle \\vec{p'}_{i_{t'=0}} = \\vec{p'}_{i_{0}} = \\left[p'_{_i{x_0}}, p'_{_i{y_0}}, p'_{_i{z_0}} \\right]$\n",
    "* $\\displaystyle \\vec{v'}_{i_{t'=0}} = \\vec{v'}_{i_{0}} = \\left[v'_{_i{x_0}}, v'_{_i{y_0}}, v'_{_i{z_0}} \\right]$\n",
    "* $\\vec{p'}_i$ er posisjonsvektoren, $\\vec{v'}_i$ er hastighetsvektoren for $i=1, 2, 3$ (3 her representerer antallet planeter som interagerer med hverandre).\n"
   ]
  },
  {
   "cell_type": "markdown",
   "id": "ddc174ca-261b-4bbd-bea8-9059706274e6",
   "metadata": {},
   "source": [
    "# **Python Implementering**\n",
    "-----------------------"
   ]
  },
  {
   "cell_type": "markdown",
   "id": "b5573ca2-d53d-4e5b-acb6-90e4f478c340",
   "metadata": {},
   "source": [
    "#### **importerer biblioteker**"
   ]
  },
  {
   "cell_type": "code",
   "execution_count": 1,
   "id": "3a9f1dbd-e753-4aeb-90a8-4e2bc8ae587c",
   "metadata": {},
   "outputs": [],
   "source": [
    "import numpy as np\n",
    "import matplotlib.pyplot as plt\n",
    "from scipy.integrate import solve_ivp\n",
    "import time"
   ]
  },
  {
   "cell_type": "markdown",
   "id": "d498275f-3bbc-4d94-92c2-672f5af6ef66",
   "metadata": {},
   "source": [
    "#### 2. **startforhold og konstanter**"
   ]
  },
  {
   "cell_type": "code",
   "execution_count": 14,
   "id": "ef2c2e59-3f8d-4532-89ef-bf7a0f02348c",
   "metadata": {},
   "outputs": [
    {
     "data": {
      "text/plain": [
       "array([ 1. ,  0. ,  1. ,  1. ,  1. ,  0. ,  0. ,  1. ,  1. ,  0. ,  0. ,\n",
       "       -1. ,  0. ,  0. ,  1. ,  0. ,  0. , -0.6])"
      ]
     },
     "execution_count": 14,
     "metadata": {},
     "output_type": "execute_result"
    }
   ],
   "source": [
    "#massen til de forskjellige planetene\n",
    "m1 = 1.0\n",
    "m2 = 1.0\n",
    "m3 = 1.0\n",
    "\n",
    "#initialiserer posisjoner [x, y, z]\n",
    "inital_position_1 =  [1.0,  0.0,  1.0]\n",
    "inital_position_2 =  [1.0,  1.0,  0.0]\n",
    "inital_position_3 =  [0.0,   1.0, 1.0]\n",
    "\n",
    "# Initialiserer hastigheter [x, y, z]\n",
    "inital_velocity_1 =  [0.0, 0.0, -1.0]\n",
    "inital_velocity_2 =  [0.0, 0.0, 1.0]\n",
    "inital_velocity_3 =  [0.0, 0.0, -0.6]\n",
    "\n",
    "# henter posisjonene og hastighet og setter dem inn i en 1 dimensjonal array, bruker .ravel for å forsikre at den er 1 dimensjonal\n",
    "initial_conditions = np.array([\n",
    "    inital_position_1, inital_position_2, inital_position_3,\n",
    "    inital_velocity_1, inital_velocity_2, inital_velocity_3\n",
    "]).ravel()"
   ]
  },
  {
   "cell_type": "markdown",
   "id": "147850b7-3f1c-4f97-a55a-c79d9c9dce25",
   "metadata": {},
   "source": [
    "#### **3. Definerer systemet av førsteordens ODE'er i Python:**"
   ]
  },
  {
   "cell_type": "code",
   "execution_count": 3,
   "id": "2c6fae49-5593-483a-a7f1-d9b7bd57bd1c",
   "metadata": {},
   "outputs": [],
   "source": [
    "#kalkulerer posisjonene av planete med dimensjonsløs formel for python\n",
    "def system_odes(t, S, m1, m2, m3):\n",
    "\n",
    "    #henter posisjonen av objektene fra S. p1, p2, p3 har alle x, y, z koordinater. så f.eks S[0:3] er posisjonen til planet1 (p1 = [x1, y1, z1])\n",
    "    p1, p2, p3 = S[0:3], S[3:6], S[6:9]\n",
    "\n",
    "    #s[9:12] hastighet til planet1 (dp1_dt = [Vx1, Vy1, Vz1])\n",
    "    dp1_dt, dp2_dt, dp3_dt = S[9:12], S[12:15], S[15:18]\n",
    "\n",
    "    \n",
    "    #f1, f2, f3 er hastigheten til dp1_dt, dp2_dt, dp3_dt\n",
    "    f1, f2, f3 = dp1_dt, dp2_dt, dp3_dt\n",
    "\n",
    "    \n",
    "    #finner akselerasjonen til planetene\n",
    "    df1_dt = m3*(p3 - p1)/np.linalg.norm(p3 - p1)**3 + m2*(p2 - p1)/np.linalg.norm(p2 - p1)**3\n",
    "    df2_dt = m3*(p3 - p2)/np.linalg.norm(p3 - p2)**3 + m1*(p1 - p2)/np.linalg.norm(p1 - p2)**3\n",
    "    df3_dt = m1*(p1 - p3)/np.linalg.norm(p1 - p3)**3 + m2*(p2 - p3)/np.linalg.norm(p2 - p3)**3\n",
    "\n",
    "\n",
    "    #gjør til en 1D array for å gjøre det lettere for ODE solver\n",
    "    return np.array([f1, f2, f3, df1_dt, df2_dt, df3_dt]).ravel()\n"
   ]
  },
  {
   "cell_type": "markdown",
   "id": "c7c1ece8",
   "metadata": {},
   "source": [
    "#### **4. Løser problemet numerisk**"
   ]
  },
  {
   "cell_type": "code",
   "execution_count": 19,
   "id": "24183acc-d650-480c-9b08-55fa847f5822",
   "metadata": {},
   "outputs": [],
   "source": [
    "#definerer time start og time end\n",
    "time_s, time_e = 0, 50\n",
    "\n",
    "#definerer hvor mange tids-punkter det skal være mellom time start og time end\n",
    "t_points = np.linspace(time_s, time_e, 1000)\n",
    "\n",
    "#henter current unix time\n",
    "t1 = time.time()\n",
    "\n",
    "#bruker solve_ivp funksjon og passerer dataen vår. den vil spytte ut en tids array først og så en y array som essensielt er løsningene våre. \n",
    "solution = solve_ivp(\n",
    "    fun=system_odes,\n",
    "    t_span=(time_s, time_e),\n",
    "    y0=initial_conditions,\n",
    "    t_eval=t_points,\n",
    "    args=(m1, m2, m3)\n",
    ")\n",
    "print(\"this is the solution\", solution)\n",
    "#henter unix time igjen\n",
    "t2 = time.time()\n",
    "#finner hvor lang tid det tok for å løse\n",
    "print(f\"Solved in: {t2-t1:.3f} [s]\")\n",
    "\n",
    "#henter tidsarrayen fra solution\n",
    "t_sol = solution.t\n",
    "\n",
    "#henter planet n sin x, y, z verdi fra solution's y index\n",
    "p1x_sol = solution.y[0]\n",
    "p1y_sol = solution.y[1]\n",
    "p1z_sol = solution.y[2]\n",
    "\n",
    "p2x_sol = solution.y[3]\n",
    "p2y_sol = solution.y[4]\n",
    "p2z_sol = solution.y[5]\n",
    "\n",
    "p3x_sol = solution.y[6]\n",
    "p3y_sol = solution.y[7]\n",
    "p3z_sol = solution.y[8]\n"
   ]
  },
  {
   "cell_type": "markdown",
   "id": "14459148",
   "metadata": {},
   "source": [
    "#### **5. Plotter resultatene**"
   ]
  },
  {
   "cell_type": "code",
   "execution_count": null,
   "id": "a8fe9f9d",
   "metadata": {},
   "outputs": [],
   "source": [
    "fig, ax = plt.subplots(subplot_kw={\"projection\":\"3d\"})\n",
    "\n",
    "#tegner den tynne linjen etter posisjonen\n",
    "planet1_plt, = ax.plot(p1x_sol, p1y_sol, p1z_sol, 'green', label='Planet 1', linewidth=1)\n",
    "planet2_plt, = ax.plot(p2x_sol, p2y_sol, p2z_sol, 'red', label='Planet 2', linewidth=1)\n",
    "planet3_plt, = ax.plot(p3x_sol, p3y_sol, p3z_sol, 'blue',label='Planet 3', linewidth=1)\n",
    "\n",
    "#tegner en dot på den siste posisjonen\n",
    "planet1_dot, = ax.plot([p1x_sol[-1]], [p1y_sol[-1]], [p1z_sol[-1]], 'o', color='green', markersize=6)\n",
    "planet2_dot, = ax.plot([p2x_sol[-1]], [p2y_sol[-1]], [p2z_sol[-1]], 'o', color='red', markersize=6)\n",
    "planet3_dot, = ax.plot([p3x_sol[-1]], [p3y_sol[-1]], [p3z_sol[-1]], 'o', color='blue', markersize=6)\n",
    "\n",
    "\n",
    "ax.set_title(\"The 3-Body Problem\")\n",
    "ax.set_xlabel(\"x\")\n",
    "ax.set_ylabel(\"y\")\n",
    "ax.set_zlabel(\"z\")\n",
    "plt.grid()\n",
    "plt.legend()"
   ]
  },
  {
   "cell_type": "markdown",
   "id": "63196bb7",
   "metadata": {},
   "source": [
    "#### **6. Animerer resultatene**"
   ]
  },
  {
   "cell_type": "code",
   "execution_count": null,
   "id": "43ace22f",
   "metadata": {},
   "outputs": [],
   "source": [
    "def update(frame):\n",
    "\n",
    "    #plotter de 300 siste framesene\n",
    "    lower_lim = max(0, frame - 300)\n",
    "    print(f\"Progress: {(frame+1)/len(t_points):.1%} | 100.0 %\", end='\\r')\n",
    "\n",
    "    #definerer x,y,z sine verdier og lagres i en array fra lower lim til current frame\n",
    "    x_current_1 = p1x_sol[lower_lim:frame+1]\n",
    "    y_current_1 = p1y_sol[lower_lim:frame+1]\n",
    "    z_current_1 = p1z_sol[lower_lim:frame+1]\n",
    "\n",
    "    x_current_2 = p2x_sol[lower_lim:frame+1]\n",
    "    y_current_2 = p2y_sol[lower_lim:frame+1]\n",
    "    z_current_2 = p2z_sol[lower_lim:frame+1]\n",
    "\n",
    "    x_current_3 = p3x_sol[lower_lim:frame+1]\n",
    "    y_current_3 = p3y_sol[lower_lim:frame+1]\n",
    "    z_current_3 = p3z_sol[lower_lim:frame+1]\n",
    "\n",
    "    planet1_plt.set_data(x_current_1, y_current_1)\n",
    "    planet1_plt.set_3d_properties(z_current_1)\n",
    "\n",
    "    planet1_dot.set_data([x_current_1[-1]], [y_current_1[-1]])\n",
    "    planet1_dot.set_3d_properties([z_current_1[-1]])\n",
    "\n",
    "\n",
    "\n",
    "    planet2_plt.set_data(x_current_2, y_current_2)\n",
    "    planet2_plt.set_3d_properties(z_current_2)\n",
    "\n",
    "    planet2_dot.set_data([x_current_2[-1]], [y_current_2[-1]])\n",
    "    planet2_dot.set_3d_properties([z_current_2[-1]])\n",
    "\n",
    "\n",
    "\n",
    "    planet3_plt.set_data(x_current_3, y_current_3)\n",
    "    planet3_plt.set_3d_properties(z_current_3)\n",
    "\n",
    "    planet3_dot.set_data([x_current_3[-1]], [y_current_3[-1]])\n",
    "    planet3_dot.set_3d_properties([z_current_3[-1]])\n",
    "\n",
    "\n",
    "    return planet1_plt, planet1_dot, planet2_plt, planet2_dot, planet3_plt, planet3_dot\n",
    "\n",
    "animation = FuncAnimation(fig, update, frames=range(0, len(t_points), 2), interval=10, blit=True)\n",
    "plt.show()\n"
   ]
  },
  {
   "cell_type": "markdown",
   "id": "bfad31ff",
   "metadata": {},
   "source": [
    "Kontakt: mar210511@skole.telemarkfylke.no <br>\n",
    "#SkienVideregående2025"
   ]
  }
 ],
 "metadata": {
  "kernelspec": {
   "display_name": "Python 3 (ipykernel)",
   "language": "python",
   "name": "python3"
  },
  "language_info": {
   "codemirror_mode": {
    "name": "ipython",
    "version": 3
   },
   "file_extension": ".py",
   "mimetype": "text/x-python",
   "name": "python",
   "nbconvert_exporter": "python",
   "pygments_lexer": "ipython3",
   "version": "3.12.1"
  }
 },
 "nbformat": 4,
 "nbformat_minor": 5
}
